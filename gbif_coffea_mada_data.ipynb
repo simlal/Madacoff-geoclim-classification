{
 "cells": [
  {
   "attachments": {},
   "cell_type": "markdown",
   "metadata": {},
   "source": [
    "# GBIF data for L. Coffea species in Madagascar with GPS coordinates\n",
    "\n",
    "https://www.gbif.org/\n"
   ]
  },
  {
   "attachments": {},
   "cell_type": "markdown",
   "metadata": {},
   "source": [
    "## Fetch Madagascar coffea species data from GBIF db using the `utils.gbif_api` helper module from `py_madaclim`"
   ]
  },
  {
   "attachments": {},
   "cell_type": "markdown",
   "metadata": {},
   "source": [
    "Example of a base query with curl\n",
    "\n",
    "- taxon = L. coffea\n",
    "- country = Madagascar\n",
    "- has_coordinate = True\n",
    "- has_geospatial_issue = False\n",
    "\n",
    "\n",
    "`curl https://api.gbif.org/v1/occurence/search?country=MG&has_coordinate=true&has_geospatial_issue=false&taxon_key=2895315&`"
   ]
  },
  {
   "attachments": {},
   "cell_type": "markdown",
   "metadata": {},
   "source": [
    "### Fetch data with 'occurrence/search' + 'occurence/download' API endpoints\n"
   ]
  },
  {
   "cell_type": "code",
   "execution_count": 1,
   "metadata": {},
   "outputs": [],
   "source": [
    "from pathlib import Path\n",
    "import re\n",
    "import os\n",
    "import requests\n",
    "\n",
    "from dotenv import load_dotenv\n",
    "import numpy as np\n",
    "import pandas as pd\n",
    "import seaborn as sns\n",
    "import matplotlib.pyplot as plt\n",
    "from bs4 import BeautifulSoup\n",
    "\n",
    "from py_madaclim.utils import gbif_api\n"
   ]
  },
  {
   "cell_type": "markdown",
   "metadata": {},
   "source": [
    "#### Get taxon key for L. Coffea in the GBIF db using the gbif_api helper module inside py_madaclim"
   ]
  },
  {
   "cell_type": "code",
   "execution_count": 2,
   "metadata": {},
   "outputs": [
    {
     "name": "stdout",
     "output_type": "stream",
     "text": [
      "EXACT match type found with 95% confidence!\n",
      "canonical name of match: Coffea\n",
      "GBIF_taxon_key: 2895315\n"
     ]
    },
    {
     "data": {
      "text/plain": [
       "{'usageKey': 2895315,\n",
       " 'scientificName': 'Coffea L.',\n",
       " 'canonicalName': 'Coffea',\n",
       " 'rank': 'GENUS',\n",
       " 'status': 'ACCEPTED',\n",
       " 'confidence': 95,\n",
       " 'matchType': 'EXACT',\n",
       " 'kingdom': 'Plantae',\n",
       " 'phylum': 'Tracheophyta',\n",
       " 'order': 'Gentianales',\n",
       " 'family': 'Rubiaceae',\n",
       " 'genus': 'Coffea',\n",
       " 'kingdomKey': 6,\n",
       " 'phylumKey': 7707728,\n",
       " 'classKey': 220,\n",
       " 'orderKey': 412,\n",
       " 'familyKey': 8798,\n",
       " 'genusKey': 2895315,\n",
       " 'synonym': False,\n",
       " 'class': 'Magnoliopsida'}"
      ]
     },
     "execution_count": 2,
     "metadata": {},
     "output_type": "execute_result"
    }
   ],
   "source": [
    "# Get GBIF API response for L. Coffea search\n",
    "gbif_api.get_taxon_key_by_species_match(name=\"coffea\", return_full_on_match=True)"
   ]
  },
  {
   "cell_type": "code",
   "execution_count": 3,
   "metadata": {},
   "outputs": [
    {
     "name": "stdout",
     "output_type": "stream",
     "text": [
      "EXACT match type found with 95% confidence!\n",
      "canonical name of match: Coffea\n",
      "GBIF_taxon_key: 2895315\n"
     ]
    }
   ],
   "source": [
    "# extract taxon_key\n",
    "coffea_key = gbif_api.get_taxon_key_by_species_match(\"coffea\")"
   ]
  },
  {
   "cell_type": "markdown",
   "metadata": {},
   "source": [
    "#### Search for occurrences records in the GBIF using taxon key\n",
    "\n",
    "See function docstrings for base parameters in the `requests.get`:\n",
    "- GADM id == Madagascar\n",
    "- has GPS coordinates\n",
    "- no geospatial issues in occurrence"
   ]
  },
  {
   "cell_type": "code",
   "execution_count": 4,
   "metadata": {},
   "outputs": [
    {
     "name": "stdout",
     "output_type": "stream",
     "text": [
      "Fetching all 2793 occurences accross all possible years...\n",
      "Extracting occurences 0 to 300...\n",
      "Extracting occurences 300 to 600...\n",
      "Extracting occurences 600 to 900...\n",
      "Extracting occurences 900 to 1200...\n",
      "Extracting occurences 1200 to 1500...\n",
      "Extracting occurences 1500 to 1800...\n",
      "Extracting occurences 1800 to 2100...\n",
      "Extracting occurences 2100 to 2400...\n",
      "Extracting occurences 2400 to 2700...\n",
      "Extracting occurences 2700 to 2793...\n",
      "Total records retrieved: 2793\n"
     ]
    }
   ],
   "source": [
    "coffea_search_results = gbif_api.search_occ_mdg_valid_coordinates(taxon_key=coffea_key)"
   ]
  },
  {
   "cell_type": "markdown",
   "metadata": {},
   "source": [
    "When no `year_range` are specified, all occurrences are returned. You can filter results upstream of the query using if needed"
   ]
  },
  {
   "cell_type": "code",
   "execution_count": 5,
   "metadata": {},
   "outputs": [
    {
     "name": "stdout",
     "output_type": "stream",
     "text": [
      "Fetching all 613 occurences in year range 2010-2023...\n",
      "Extracting occurences 0 to 300...\n",
      "Extracting occurences 300 to 600...\n",
      "Extracting occurences 600 to 613...\n",
      "Total records retrieved: 613\n"
     ]
    }
   ],
   "source": [
    "coffea_search_results_2010_present = gbif_api.search_occ_mdg_valid_coordinates(\n",
    "    taxon_key=coffea_key,\n",
    "    year_range=(2010, 2023)\n",
    ")"
   ]
  },
  {
   "cell_type": "markdown",
   "metadata": {},
   "source": [
    "**Read the results into a pandas df**"
   ]
  },
  {
   "cell_type": "code",
   "execution_count": 6,
   "metadata": {},
   "outputs": [
    {
     "data": {
      "text/html": [
       "<div>\n",
       "<style scoped>\n",
       "    .dataframe tbody tr th:only-of-type {\n",
       "        vertical-align: middle;\n",
       "    }\n",
       "\n",
       "    .dataframe tbody tr th {\n",
       "        vertical-align: top;\n",
       "    }\n",
       "\n",
       "    .dataframe thead th {\n",
       "        text-align: right;\n",
       "    }\n",
       "</style>\n",
       "<table border=\"1\" class=\"dataframe\">\n",
       "  <thead>\n",
       "    <tr style=\"text-align: right;\">\n",
       "      <th></th>\n",
       "      <th>key</th>\n",
       "      <th>datasetKey</th>\n",
       "      <th>publishingOrgKey</th>\n",
       "      <th>installationKey</th>\n",
       "      <th>hostingOrganizationKey</th>\n",
       "      <th>publishingCountry</th>\n",
       "      <th>protocol</th>\n",
       "      <th>lastCrawled</th>\n",
       "      <th>lastParsed</th>\n",
       "      <th>crawlId</th>\n",
       "      <th>...</th>\n",
       "      <th>georeferenceProtocol</th>\n",
       "      <th>dynamicProperties</th>\n",
       "      <th>lifeStage</th>\n",
       "      <th>organismRemarks</th>\n",
       "      <th>endDayOfYear</th>\n",
       "      <th>accessRights</th>\n",
       "      <th>http://unknown.org/recordEnteredBy</th>\n",
       "      <th>datasetID</th>\n",
       "      <th>taxonRemarks</th>\n",
       "      <th>associatedReferences</th>\n",
       "    </tr>\n",
       "  </thead>\n",
       "  <tbody>\n",
       "    <tr>\n",
       "      <th>0</th>\n",
       "      <td>4137704080</td>\n",
       "      <td>50c9509d-22c7-4a22-a47d-8c48425ef4a7</td>\n",
       "      <td>28eb1a3f-1c15-4a95-931a-4af90ecb574d</td>\n",
       "      <td>997448a8-f762-11e1-a439-00145eb45e9a</td>\n",
       "      <td>28eb1a3f-1c15-4a95-931a-4af90ecb574d</td>\n",
       "      <td>US</td>\n",
       "      <td>DWC_ARCHIVE</td>\n",
       "      <td>2023-07-27T09:09:54.958+00:00</td>\n",
       "      <td>2023-07-27T14:33:41.783+00:00</td>\n",
       "      <td>385</td>\n",
       "      <td>...</td>\n",
       "      <td>NaN</td>\n",
       "      <td>NaN</td>\n",
       "      <td>NaN</td>\n",
       "      <td>NaN</td>\n",
       "      <td>NaN</td>\n",
       "      <td>NaN</td>\n",
       "      <td>NaN</td>\n",
       "      <td>NaN</td>\n",
       "      <td>NaN</td>\n",
       "      <td>NaN</td>\n",
       "    </tr>\n",
       "    <tr>\n",
       "      <th>1</th>\n",
       "      <td>4138335098</td>\n",
       "      <td>50c9509d-22c7-4a22-a47d-8c48425ef4a7</td>\n",
       "      <td>28eb1a3f-1c15-4a95-931a-4af90ecb574d</td>\n",
       "      <td>997448a8-f762-11e1-a439-00145eb45e9a</td>\n",
       "      <td>28eb1a3f-1c15-4a95-931a-4af90ecb574d</td>\n",
       "      <td>US</td>\n",
       "      <td>DWC_ARCHIVE</td>\n",
       "      <td>2023-07-27T09:09:54.958+00:00</td>\n",
       "      <td>2023-07-27T14:14:39.327+00:00</td>\n",
       "      <td>385</td>\n",
       "      <td>...</td>\n",
       "      <td>NaN</td>\n",
       "      <td>NaN</td>\n",
       "      <td>NaN</td>\n",
       "      <td>NaN</td>\n",
       "      <td>NaN</td>\n",
       "      <td>NaN</td>\n",
       "      <td>NaN</td>\n",
       "      <td>NaN</td>\n",
       "      <td>NaN</td>\n",
       "      <td>NaN</td>\n",
       "    </tr>\n",
       "    <tr>\n",
       "      <th>2</th>\n",
       "      <td>4137997535</td>\n",
       "      <td>50c9509d-22c7-4a22-a47d-8c48425ef4a7</td>\n",
       "      <td>28eb1a3f-1c15-4a95-931a-4af90ecb574d</td>\n",
       "      <td>997448a8-f762-11e1-a439-00145eb45e9a</td>\n",
       "      <td>28eb1a3f-1c15-4a95-931a-4af90ecb574d</td>\n",
       "      <td>US</td>\n",
       "      <td>DWC_ARCHIVE</td>\n",
       "      <td>2023-07-27T09:09:54.958+00:00</td>\n",
       "      <td>2023-07-27T14:33:44.443+00:00</td>\n",
       "      <td>385</td>\n",
       "      <td>...</td>\n",
       "      <td>NaN</td>\n",
       "      <td>NaN</td>\n",
       "      <td>NaN</td>\n",
       "      <td>NaN</td>\n",
       "      <td>NaN</td>\n",
       "      <td>NaN</td>\n",
       "      <td>NaN</td>\n",
       "      <td>NaN</td>\n",
       "      <td>NaN</td>\n",
       "      <td>NaN</td>\n",
       "    </tr>\n",
       "    <tr>\n",
       "      <th>3</th>\n",
       "      <td>4126236438</td>\n",
       "      <td>e053ff53-c156-4e2e-b9b5-4462e9625424</td>\n",
       "      <td>90fd6680-349f-11d8-aa2d-b8a03c50a862</td>\n",
       "      <td>c4e134d3-c68f-406d-a116-6a37895602e0</td>\n",
       "      <td>90fd6680-349f-11d8-aa2d-b8a03c50a862</td>\n",
       "      <td>US</td>\n",
       "      <td>EML</td>\n",
       "      <td>2023-07-25T18:18:42.562+00:00</td>\n",
       "      <td>2023-07-25T20:14:08.775+00:00</td>\n",
       "      <td>43</td>\n",
       "      <td>...</td>\n",
       "      <td>NaN</td>\n",
       "      <td>NaN</td>\n",
       "      <td>NaN</td>\n",
       "      <td>NaN</td>\n",
       "      <td>NaN</td>\n",
       "      <td>NaN</td>\n",
       "      <td>NaN</td>\n",
       "      <td>NaN</td>\n",
       "      <td>NaN</td>\n",
       "      <td>NaN</td>\n",
       "    </tr>\n",
       "    <tr>\n",
       "      <th>4</th>\n",
       "      <td>4126230420</td>\n",
       "      <td>e053ff53-c156-4e2e-b9b5-4462e9625424</td>\n",
       "      <td>90fd6680-349f-11d8-aa2d-b8a03c50a862</td>\n",
       "      <td>c4e134d3-c68f-406d-a116-6a37895602e0</td>\n",
       "      <td>90fd6680-349f-11d8-aa2d-b8a03c50a862</td>\n",
       "      <td>US</td>\n",
       "      <td>EML</td>\n",
       "      <td>2023-07-25T18:18:42.562+00:00</td>\n",
       "      <td>2023-07-25T20:14:09.459+00:00</td>\n",
       "      <td>43</td>\n",
       "      <td>...</td>\n",
       "      <td>NaN</td>\n",
       "      <td>NaN</td>\n",
       "      <td>NaN</td>\n",
       "      <td>NaN</td>\n",
       "      <td>NaN</td>\n",
       "      <td>NaN</td>\n",
       "      <td>NaN</td>\n",
       "      <td>NaN</td>\n",
       "      <td>NaN</td>\n",
       "      <td>NaN</td>\n",
       "    </tr>\n",
       "  </tbody>\n",
       "</table>\n",
       "<p>5 rows × 141 columns</p>\n",
       "</div>"
      ],
      "text/plain": [
       "          key                            datasetKey  \\\n",
       "0  4137704080  50c9509d-22c7-4a22-a47d-8c48425ef4a7   \n",
       "1  4138335098  50c9509d-22c7-4a22-a47d-8c48425ef4a7   \n",
       "2  4137997535  50c9509d-22c7-4a22-a47d-8c48425ef4a7   \n",
       "3  4126236438  e053ff53-c156-4e2e-b9b5-4462e9625424   \n",
       "4  4126230420  e053ff53-c156-4e2e-b9b5-4462e9625424   \n",
       "\n",
       "                       publishingOrgKey                       installationKey  \\\n",
       "0  28eb1a3f-1c15-4a95-931a-4af90ecb574d  997448a8-f762-11e1-a439-00145eb45e9a   \n",
       "1  28eb1a3f-1c15-4a95-931a-4af90ecb574d  997448a8-f762-11e1-a439-00145eb45e9a   \n",
       "2  28eb1a3f-1c15-4a95-931a-4af90ecb574d  997448a8-f762-11e1-a439-00145eb45e9a   \n",
       "3  90fd6680-349f-11d8-aa2d-b8a03c50a862  c4e134d3-c68f-406d-a116-6a37895602e0   \n",
       "4  90fd6680-349f-11d8-aa2d-b8a03c50a862  c4e134d3-c68f-406d-a116-6a37895602e0   \n",
       "\n",
       "                 hostingOrganizationKey publishingCountry     protocol  \\\n",
       "0  28eb1a3f-1c15-4a95-931a-4af90ecb574d                US  DWC_ARCHIVE   \n",
       "1  28eb1a3f-1c15-4a95-931a-4af90ecb574d                US  DWC_ARCHIVE   \n",
       "2  28eb1a3f-1c15-4a95-931a-4af90ecb574d                US  DWC_ARCHIVE   \n",
       "3  90fd6680-349f-11d8-aa2d-b8a03c50a862                US          EML   \n",
       "4  90fd6680-349f-11d8-aa2d-b8a03c50a862                US          EML   \n",
       "\n",
       "                     lastCrawled                     lastParsed  crawlId  ...  \\\n",
       "0  2023-07-27T09:09:54.958+00:00  2023-07-27T14:33:41.783+00:00      385  ...   \n",
       "1  2023-07-27T09:09:54.958+00:00  2023-07-27T14:14:39.327+00:00      385  ...   \n",
       "2  2023-07-27T09:09:54.958+00:00  2023-07-27T14:33:44.443+00:00      385  ...   \n",
       "3  2023-07-25T18:18:42.562+00:00  2023-07-25T20:14:08.775+00:00       43  ...   \n",
       "4  2023-07-25T18:18:42.562+00:00  2023-07-25T20:14:09.459+00:00       43  ...   \n",
       "\n",
       "  georeferenceProtocol dynamicProperties lifeStage  organismRemarks  \\\n",
       "0                  NaN               NaN       NaN              NaN   \n",
       "1                  NaN               NaN       NaN              NaN   \n",
       "2                  NaN               NaN       NaN              NaN   \n",
       "3                  NaN               NaN       NaN              NaN   \n",
       "4                  NaN               NaN       NaN              NaN   \n",
       "\n",
       "   endDayOfYear  accessRights  http://unknown.org/recordEnteredBy  datasetID  \\\n",
       "0           NaN           NaN                                 NaN        NaN   \n",
       "1           NaN           NaN                                 NaN        NaN   \n",
       "2           NaN           NaN                                 NaN        NaN   \n",
       "3           NaN           NaN                                 NaN        NaN   \n",
       "4           NaN           NaN                                 NaN        NaN   \n",
       "\n",
       "   taxonRemarks  associatedReferences  \n",
       "0           NaN                   NaN  \n",
       "1           NaN                   NaN  \n",
       "2           NaN                   NaN  \n",
       "3           NaN                   NaN  \n",
       "4           NaN                   NaN  \n",
       "\n",
       "[5 rows x 141 columns]"
      ]
     },
     "execution_count": 6,
     "metadata": {},
     "output_type": "execute_result"
    }
   ],
   "source": [
    "coff_search_df = pd.DataFrame(coffea_search_results)\n",
    "coff_search_df.head()"
   ]
  },
  {
   "cell_type": "code",
   "execution_count": 7,
   "metadata": {},
   "outputs": [
    {
     "data": {
      "text/plain": [
       "(2793, 141)"
      ]
     },
     "execution_count": 7,
     "metadata": {},
     "output_type": "execute_result"
    }
   ],
   "source": [
    "coff_search_df.shape"
   ]
  },
  {
   "cell_type": "code",
   "execution_count": 8,
   "metadata": {},
   "outputs": [
    {
     "data": {
      "text/plain": [
       "object     119\n",
       "float64     11\n",
       "int64       10\n",
       "bool         1\n",
       "dtype: int64"
      ]
     },
     "execution_count": 8,
     "metadata": {},
     "output_type": "execute_result"
    }
   ],
   "source": [
    "coff_search_df.dtypes.value_counts()"
   ]
  },
  {
   "attachments": {},
   "cell_type": "markdown",
   "metadata": {},
   "source": [
    "#### Explore search_occurrences with missing 'species' entry"
   ]
  },
  {
   "attachments": {},
   "cell_type": "markdown",
   "metadata": {},
   "source": [
    "We have some lower-ranked taxonomy such as subspecies and variety"
   ]
  },
  {
   "cell_type": "code",
   "execution_count": 9,
   "metadata": {},
   "outputs": [
    {
     "data": {
      "text/plain": [
       "array(['SPECIES', 'GENUS', 'SUBSPECIES', 'VARIETY'], dtype=object)"
      ]
     },
     "execution_count": 9,
     "metadata": {},
     "output_type": "execute_result"
    }
   ],
   "source": [
    "coff_search_df[\"taxonRank\"].unique()"
   ]
  },
  {
   "attachments": {},
   "cell_type": "markdown",
   "metadata": {},
   "source": [
    "Missing vals in species have some 'GENUS' in taxon rank, meaning they are only identified as L. Coffea"
   ]
  },
  {
   "cell_type": "code",
   "execution_count": 10,
   "metadata": {},
   "outputs": [
    {
     "data": {
      "text/plain": [
       "array([nan], dtype=object)"
      ]
     },
     "execution_count": 10,
     "metadata": {},
     "output_type": "execute_result"
    }
   ],
   "source": [
    "coff_search_df[coff_search_df[\"taxonRank\"] == \"GENUS\"][\"species\"].unique()"
   ]
  },
  {
   "attachments": {},
   "cell_type": "markdown",
   "metadata": {},
   "source": [
    "670 entries with missing values in 'species' key and explore to which taxon rank they belong"
   ]
  },
  {
   "cell_type": "code",
   "execution_count": 11,
   "metadata": {},
   "outputs": [
    {
     "data": {
      "text/plain": [
       "667"
      ]
     },
     "execution_count": 11,
     "metadata": {},
     "output_type": "execute_result"
    }
   ],
   "source": [
    "coff_search_df[\"species\"].isnull().sum()"
   ]
  },
  {
   "cell_type": "code",
   "execution_count": 12,
   "metadata": {},
   "outputs": [
    {
     "data": {
      "text/plain": [
       "GENUS    667\n",
       "Name: taxonRank, dtype: int64"
      ]
     },
     "execution_count": 12,
     "metadata": {},
     "output_type": "execute_result"
    }
   ],
   "source": [
    "coff_search_df[coff_search_df[\"species\"].isnull()][\"taxonRank\"].value_counts()"
   ]
  },
  {
   "cell_type": "code",
   "execution_count": 13,
   "metadata": {},
   "outputs": [
    {
     "data": {
      "text/html": [
       "<div>\n",
       "<style scoped>\n",
       "    .dataframe tbody tr th:only-of-type {\n",
       "        vertical-align: middle;\n",
       "    }\n",
       "\n",
       "    .dataframe tbody tr th {\n",
       "        vertical-align: top;\n",
       "    }\n",
       "\n",
       "    .dataframe thead th {\n",
       "        text-align: right;\n",
       "    }\n",
       "</style>\n",
       "<table border=\"1\" class=\"dataframe\">\n",
       "  <thead>\n",
       "    <tr style=\"text-align: right;\">\n",
       "      <th></th>\n",
       "      <th>species</th>\n",
       "      <th>taxonRank</th>\n",
       "    </tr>\n",
       "  </thead>\n",
       "  <tbody>\n",
       "    <tr>\n",
       "      <th>0</th>\n",
       "      <td>Coffea pervilleana</td>\n",
       "      <td>SPECIES</td>\n",
       "    </tr>\n",
       "    <tr>\n",
       "      <th>1</th>\n",
       "      <td>Coffea perrieri</td>\n",
       "      <td>SPECIES</td>\n",
       "    </tr>\n",
       "    <tr>\n",
       "      <th>2</th>\n",
       "      <td>Coffea pervilleana</td>\n",
       "      <td>SPECIES</td>\n",
       "    </tr>\n",
       "    <tr>\n",
       "      <th>3</th>\n",
       "      <td>NaN</td>\n",
       "      <td>GENUS</td>\n",
       "    </tr>\n",
       "    <tr>\n",
       "      <th>4</th>\n",
       "      <td>NaN</td>\n",
       "      <td>GENUS</td>\n",
       "    </tr>\n",
       "    <tr>\n",
       "      <th>...</th>\n",
       "      <td>...</td>\n",
       "      <td>...</td>\n",
       "    </tr>\n",
       "    <tr>\n",
       "      <th>2788</th>\n",
       "      <td>Coffea richardii</td>\n",
       "      <td>SPECIES</td>\n",
       "    </tr>\n",
       "    <tr>\n",
       "      <th>2789</th>\n",
       "      <td>Coffea richardii</td>\n",
       "      <td>SPECIES</td>\n",
       "    </tr>\n",
       "    <tr>\n",
       "      <th>2790</th>\n",
       "      <td>Coffea richardii</td>\n",
       "      <td>SPECIES</td>\n",
       "    </tr>\n",
       "    <tr>\n",
       "      <th>2791</th>\n",
       "      <td>Coffea richardii</td>\n",
       "      <td>SPECIES</td>\n",
       "    </tr>\n",
       "    <tr>\n",
       "      <th>2792</th>\n",
       "      <td>Coffea grevei</td>\n",
       "      <td>SPECIES</td>\n",
       "    </tr>\n",
       "  </tbody>\n",
       "</table>\n",
       "<p>2793 rows × 2 columns</p>\n",
       "</div>"
      ],
      "text/plain": [
       "                 species taxonRank\n",
       "0     Coffea pervilleana   SPECIES\n",
       "1        Coffea perrieri   SPECIES\n",
       "2     Coffea pervilleana   SPECIES\n",
       "3                    NaN     GENUS\n",
       "4                    NaN     GENUS\n",
       "...                  ...       ...\n",
       "2788    Coffea richardii   SPECIES\n",
       "2789    Coffea richardii   SPECIES\n",
       "2790    Coffea richardii   SPECIES\n",
       "2791    Coffea richardii   SPECIES\n",
       "2792       Coffea grevei   SPECIES\n",
       "\n",
       "[2793 rows x 2 columns]"
      ]
     },
     "execution_count": 13,
     "metadata": {},
     "output_type": "execute_result"
    }
   ],
   "source": [
    "coff_search_df[[\"species\", \"taxonRank\"]]"
   ]
  },
  {
   "cell_type": "markdown",
   "metadata": {},
   "source": [
    "Ahh so all of the missing values have only a higher taxonomic rank defined (no species)"
   ]
  },
  {
   "cell_type": "code",
   "execution_count": 14,
   "metadata": {},
   "outputs": [
    {
     "data": {
      "text/plain": [
       "Coffea mangoroensis      143\n",
       "Coffea resinosa          118\n",
       "Coffea richardii          97\n",
       "Coffea perrieri           91\n",
       "Coffea grevei             82\n",
       "                        ... \n",
       "Coffea canephora           4\n",
       "Coffea vavateninensis      4\n",
       "Coffea eugenioides         2\n",
       "Coffea magnistipula        1\n",
       "Coffea liberica            1\n",
       "Name: species, Length: 65, dtype: int64"
      ]
     },
     "execution_count": 14,
     "metadata": {},
     "output_type": "execute_result"
    }
   ],
   "source": [
    "coff_search_df[\"species\"].value_counts()"
   ]
  },
  {
   "cell_type": "code",
   "execution_count": 15,
   "metadata": {},
   "outputs": [
    {
     "name": "stdout",
     "output_type": "stream",
     "text": [
      "No 'kalobinonensis' found in whole species-NaN object-type cols\n"
     ]
    }
   ],
   "source": [
    "# Assert if we can find an example species name in the null entries from a species not present in the other cols\n",
    "if not pd.concat([coff_search_df[col].str.contains(\"kalobinonensis\", case=False, na=False) if coff_search_df[col].dtype == 'object' else None for col in coff_search_df.columns], axis=1).sum().sum() > 0:\n",
    "    print(\"No 'kalobinonensis' found in whole species-NaN object-type cols\")"
   ]
  },
  {
   "cell_type": "markdown",
   "metadata": {},
   "source": [
    "**Double check by using the gbifID if we could recover more info**"
   ]
  },
  {
   "cell_type": "code",
   "execution_count": 16,
   "metadata": {},
   "outputs": [
    {
     "data": {
      "text/plain": [
       "array([4126236438, 4126230420, 4126264371, 3946818877, 4061431442])"
      ]
     },
     "execution_count": 16,
     "metadata": {},
     "output_type": "execute_result"
    }
   ],
   "source": [
    "missing_vals_gbifids = coff_search_df[coff_search_df[\"species\"].isnull()][\"key\"].values\n",
    "missing_vals_gbifids[:5]"
   ]
  },
  {
   "cell_type": "code",
   "execution_count": 17,
   "metadata": {},
   "outputs": [],
   "source": [
    "np.random.seed(42)\n",
    "random_missing_val = np.random.choice(missing_vals_gbifids)\n",
    "np.random.seed(None)"
   ]
  },
  {
   "cell_type": "code",
   "execution_count": 18,
   "metadata": {},
   "outputs": [],
   "source": [
    "random_id_search = gbif_api.search_occ_by_gbif_id(random_missing_val)"
   ]
  },
  {
   "cell_type": "code",
   "execution_count": 19,
   "metadata": {},
   "outputs": [
    {
     "name": "stdout",
     "output_type": "stream",
     "text": [
      "scientificName: Coffea L.\n",
      "acceptedScientificName: Coffea L.\n",
      "genus: Coffea\n",
      "genericName: Coffea\n",
      "datasetName: Tropicos\n"
     ]
    }
   ],
   "source": [
    "for k, v in random_id_search.items():\n",
    "    if re.search(\"(C|c)offea\", str(v)) or re.search(\"[nN]ame\", str(k)):\n",
    "        print(f\"{k}: {v}\")"
   ]
  },
  {
   "cell_type": "markdown",
   "metadata": {},
   "source": [
    "No help. Let's try to use the download_occurrence with different formats to find if we could recover some species information"
   ]
  },
  {
   "cell_type": "markdown",
   "metadata": {},
   "source": [
    "#### Request and download occurrence data in Madagascar for a specific taxon"
   ]
  },
  {
   "cell_type": "markdown",
   "metadata": {},
   "source": [
    "First we need to create a username in the GBIF website: https://www.gbif.org/ so we can make a post request to the GBIF API ()"
   ]
  },
  {
   "cell_type": "markdown",
   "metadata": {},
   "source": [
    "Then load make sure we have a `.env` file with our username/password from our GBIF account to be able to make the post request via a HTTP Basic auth protocol.\n",
    "\n",
    "The `request_occ_download_mdg_valid_coordinates` function will automatically load the .env file given the correct dotenv path. Here I am also loading the `.env` to also load my email from my `.env`"
   ]
  },
  {
   "cell_type": "code",
   "execution_count": 20,
   "metadata": {},
   "outputs": [
    {
     "data": {
      "text/plain": [
       "True"
      ]
     },
     "execution_count": 20,
     "metadata": {},
     "output_type": "execute_result"
    }
   ],
   "source": [
    "current_dir = Path.cwd()\n",
    "data_dir = current_dir / \"data\"\n",
    "dotenv_path = current_dir / \".env\"\n",
    "\n",
    "# Load .env into sys PATH\n",
    "load_dotenv(dotenv_path=dotenv_path)"
   ]
  },
  {
   "cell_type": "code",
   "execution_count": 21,
   "metadata": {},
   "outputs": [],
   "source": [
    "# Example download query\n",
    "if os.getenv(\"DOWNLOAD_ID\"):\n",
    "    download_id = os.getenv(\"DOWNLOAD_ID\")\n",
    "else:\n",
    "    download_id = gbif_api.request_occ_download_mdg_valid_coordinates(\n",
    "        taxon_key=coffea_key,\n",
    "        email=os.getenv(\"GBIF_EMAIL\"),    # Unecessary dotenv key but here I use it for privacy\n",
    "        dotenv_filepath=dotenv_path,\n",
    "        reponse_format=\"DWCA\",\n",
    "        year_range=None    # Again possible to filter download request upstream of download\n",
    "    )"
   ]
  },
  {
   "cell_type": "markdown",
   "metadata": {},
   "source": [
    "**We can then download, extract and read to memory the occurrence download as a pandas df regardless of the `response_format`**"
   ]
  },
  {
   "cell_type": "code",
   "execution_count": 23,
   "metadata": {},
   "outputs": [
    {
     "name": "stdout",
     "output_type": "stream",
     "text": [
      "Response OK from https://api.gbif.org/v1/occurrence/download for the given 'download_id'\n",
      "Progress for download_0120368-230530130749713.zip : 100.0% completed of 0.82 MB downloaded [ average speed of 0.16 MB/s ]\n",
      "Extracting all 33 files to target location: .../download_0120368-230530130749713/\n",
      "Read and saved core data into pandas df: occurrence.txt\n"
     ]
    }
   ],
   "source": [
    "coff_dl_df = gbif_api.download_extract_read_occ(\n",
    "    download_id=download_id,\n",
    "    target_dir=data_dir / \"gbif\"    # Defaults to cwd\n",
    ")"
   ]
  },
  {
   "cell_type": "code",
   "execution_count": 24,
   "metadata": {},
   "outputs": [
    {
     "data": {
      "text/plain": [
       "Coffea L.                                        458\n",
       "Coffea                                            88\n",
       "Coffea sp.                                        77\n",
       "Coffea microdubardii A.P. Davis & Rakotonas.      11\n",
       "Coffea rupicola A.P. Davis & Rakotonas.            7\n",
       "Coffea kalobinonensis A.P. Davis & Rakotonas.      4\n",
       "Coffea callmanderi A.P. Davis & Rakotonas.         4\n",
       "Coffea sp. nov. 'labatiana'                        3\n",
       "Coffea darainensis A.P. Davis & Rakotonas.         3\n",
       "Coffea  L.                                         2\n",
       "Coffea poissonii                                   2\n",
       "Psilanthus ?                                       2\n",
       "Coffea alaotrensis                                 1\n",
       "Coffea antsiranane                                 1\n",
       "Coffea sp. 1                                       1\n",
       "Coffea spec.                                       1\n",
       "Coffea spathifolia                                 1\n",
       "Coffea callmanderi A. P. Davis                     1\n",
       "Name: verbatimScientificName, dtype: int64"
      ]
     },
     "execution_count": 24,
     "metadata": {},
     "output_type": "execute_result"
    }
   ],
   "source": [
    "coff_dl_df[coff_dl_df[\"species\"].isnull()][\"verbatimScientificName\"].value_counts()"
   ]
  },
  {
   "cell_type": "markdown",
   "metadata": {},
   "source": [
    "Now we can retrieve some of the missing entries for 'species' in the gbif occurrence download data. \n",
    "\n",
    "Example to retrieve some information for a specific verbatim name"
   ]
  },
  {
   "cell_type": "code",
   "execution_count": 25,
   "metadata": {},
   "outputs": [
    {
     "data": {
      "text/html": [
       "<div>\n",
       "<style scoped>\n",
       "    .dataframe tbody tr th:only-of-type {\n",
       "        vertical-align: middle;\n",
       "    }\n",
       "\n",
       "    .dataframe tbody tr th {\n",
       "        vertical-align: top;\n",
       "    }\n",
       "\n",
       "    .dataframe thead th {\n",
       "        text-align: right;\n",
       "    }\n",
       "</style>\n",
       "<table border=\"1\" class=\"dataframe\">\n",
       "  <thead>\n",
       "    <tr style=\"text-align: right;\">\n",
       "      <th></th>\n",
       "      <th>genus</th>\n",
       "      <th>taxonRank</th>\n",
       "      <th>verbatimScientificName</th>\n",
       "      <th>year</th>\n",
       "      <th>recordNumber</th>\n",
       "    </tr>\n",
       "  </thead>\n",
       "  <tbody>\n",
       "    <tr>\n",
       "      <th>407</th>\n",
       "      <td>Coffea</td>\n",
       "      <td>GENUS</td>\n",
       "      <td>Coffea microdubardii A.P. Davis &amp; Rakotonas.</td>\n",
       "      <td>2005.0</td>\n",
       "      <td>Be 162</td>\n",
       "    </tr>\n",
       "    <tr>\n",
       "      <th>412</th>\n",
       "      <td>Coffea</td>\n",
       "      <td>GENUS</td>\n",
       "      <td>Coffea microdubardii A.P. Davis &amp; Rakotonas.</td>\n",
       "      <td>2005.0</td>\n",
       "      <td>Be 162</td>\n",
       "    </tr>\n",
       "    <tr>\n",
       "      <th>566</th>\n",
       "      <td>Coffea</td>\n",
       "      <td>GENUS</td>\n",
       "      <td>Coffea microdubardii A.P. Davis &amp; Rakotonas.</td>\n",
       "      <td>2003.0</td>\n",
       "      <td>Nusbaumer 843</td>\n",
       "    </tr>\n",
       "    <tr>\n",
       "      <th>850</th>\n",
       "      <td>Coffea</td>\n",
       "      <td>GENUS</td>\n",
       "      <td>Coffea microdubardii A.P. Davis &amp; Rakotonas.</td>\n",
       "      <td>2003.0</td>\n",
       "      <td>Nusbaumer 843</td>\n",
       "    </tr>\n",
       "    <tr>\n",
       "      <th>863</th>\n",
       "      <td>Coffea</td>\n",
       "      <td>GENUS</td>\n",
       "      <td>Coffea microdubardii A.P. Davis &amp; Rakotonas.</td>\n",
       "      <td>2003.0</td>\n",
       "      <td>Nusbaumer 843</td>\n",
       "    </tr>\n",
       "    <tr>\n",
       "      <th>1091</th>\n",
       "      <td>Coffea</td>\n",
       "      <td>GENUS</td>\n",
       "      <td>Coffea microdubardii A.P. Davis &amp; Rakotonas.</td>\n",
       "      <td>2005.0</td>\n",
       "      <td>Be 162</td>\n",
       "    </tr>\n",
       "    <tr>\n",
       "      <th>1179</th>\n",
       "      <td>Coffea</td>\n",
       "      <td>GENUS</td>\n",
       "      <td>Coffea microdubardii A.P. Davis &amp; Rakotonas.</td>\n",
       "      <td>2003.0</td>\n",
       "      <td>Nusbaumer 843</td>\n",
       "    </tr>\n",
       "    <tr>\n",
       "      <th>2297</th>\n",
       "      <td>Coffea</td>\n",
       "      <td>GENUS</td>\n",
       "      <td>Coffea microdubardii A.P. Davis &amp; Rakotonas.</td>\n",
       "      <td>2005.0</td>\n",
       "      <td>Be 162</td>\n",
       "    </tr>\n",
       "    <tr>\n",
       "      <th>2509</th>\n",
       "      <td>Coffea</td>\n",
       "      <td>GENUS</td>\n",
       "      <td>Coffea microdubardii A.P. Davis &amp; Rakotonas.</td>\n",
       "      <td>2005.0</td>\n",
       "      <td>Ranirison 1036</td>\n",
       "    </tr>\n",
       "    <tr>\n",
       "      <th>2511</th>\n",
       "      <td>Coffea</td>\n",
       "      <td>GENUS</td>\n",
       "      <td>Coffea microdubardii A.P. Davis &amp; Rakotonas.</td>\n",
       "      <td>2004.0</td>\n",
       "      <td>Ranirison 797</td>\n",
       "    </tr>\n",
       "    <tr>\n",
       "      <th>2522</th>\n",
       "      <td>Coffea</td>\n",
       "      <td>GENUS</td>\n",
       "      <td>Coffea microdubardii A.P. Davis &amp; Rakotonas.</td>\n",
       "      <td>2003.0</td>\n",
       "      <td>Nusbaumer 843</td>\n",
       "    </tr>\n",
       "  </tbody>\n",
       "</table>\n",
       "</div>"
      ],
      "text/plain": [
       "       genus taxonRank                        verbatimScientificName    year  \\\n",
       "407   Coffea     GENUS  Coffea microdubardii A.P. Davis & Rakotonas.  2005.0   \n",
       "412   Coffea     GENUS  Coffea microdubardii A.P. Davis & Rakotonas.  2005.0   \n",
       "566   Coffea     GENUS  Coffea microdubardii A.P. Davis & Rakotonas.  2003.0   \n",
       "850   Coffea     GENUS  Coffea microdubardii A.P. Davis & Rakotonas.  2003.0   \n",
       "863   Coffea     GENUS  Coffea microdubardii A.P. Davis & Rakotonas.  2003.0   \n",
       "1091  Coffea     GENUS  Coffea microdubardii A.P. Davis & Rakotonas.  2005.0   \n",
       "1179  Coffea     GENUS  Coffea microdubardii A.P. Davis & Rakotonas.  2003.0   \n",
       "2297  Coffea     GENUS  Coffea microdubardii A.P. Davis & Rakotonas.  2005.0   \n",
       "2509  Coffea     GENUS  Coffea microdubardii A.P. Davis & Rakotonas.  2005.0   \n",
       "2511  Coffea     GENUS  Coffea microdubardii A.P. Davis & Rakotonas.  2004.0   \n",
       "2522  Coffea     GENUS  Coffea microdubardii A.P. Davis & Rakotonas.  2003.0   \n",
       "\n",
       "        recordNumber  \n",
       "407           Be 162  \n",
       "412           Be 162  \n",
       "566    Nusbaumer 843  \n",
       "850    Nusbaumer 843  \n",
       "863    Nusbaumer 843  \n",
       "1091          Be 162  \n",
       "1179   Nusbaumer 843  \n",
       "2297          Be 162  \n",
       "2509  Ranirison 1036  \n",
       "2511   Ranirison 797  \n",
       "2522   Nusbaumer 843  "
      ]
     },
     "execution_count": 25,
     "metadata": {},
     "output_type": "execute_result"
    }
   ],
   "source": [
    "coff_dl_df[(coff_dl_df[\"species\"].isnull()) & (coff_dl_df[\"verbatimScientificName\"] == \"Coffea microdubardii A.P. Davis & Rakotonas.\")][[\"genus\", \"taxonRank\", \"verbatimScientificName\", \"year\", \"recordNumber\"]]"
   ]
  },
  {
   "attachments": {},
   "cell_type": "markdown",
   "metadata": {},
   "source": [
    "*Hypothesis: retrieve some missing species name such as recent ones from :\n",
    "Davis, A.P., Rakotonasolo, F. Six new species of coffee (Coffea) from northern Madagascar. Kew Bull 76, 497–511 (2021). https://doi.org/10.1007/s12225-021-09952-5* ?"
   ]
  },
  {
   "attachments": {},
   "cell_type": "markdown",
   "metadata": {},
   "source": [
    "Most of the verbatimScientificName values starts with 'Coffea ', others with 'Coffea' and 'Psilanthus ?'"
   ]
  },
  {
   "cell_type": "code",
   "execution_count": 26,
   "metadata": {},
   "outputs": [
    {
     "data": {
      "text/plain": [
       "Coffea          88\n",
       "Psilanthus ?     2\n",
       "Name: verbatimScientificName, dtype: int64"
      ]
     },
     "execution_count": 26,
     "metadata": {},
     "output_type": "execute_result"
    }
   ],
   "source": [
    "coff_dl_df[~coff_dl_df[\"verbatimScientificName\"].str.startswith(\"Coffea \")][\"verbatimScientificName\"].value_counts()"
   ]
  },
  {
   "cell_type": "code",
   "execution_count": 27,
   "metadata": {},
   "outputs": [
    {
     "data": {
      "text/plain": [
       "Index(['Coffea', 'Psilanthus ?'], dtype='object')"
      ]
     },
     "execution_count": 27,
     "metadata": {},
     "output_type": "execute_result"
    }
   ],
   "source": [
    "coff_dl_df[~coff_dl_df[\"verbatimScientificName\"].str.startswith(\"Coffea \")][\"verbatimScientificName\"].value_counts().index"
   ]
  },
  {
   "cell_type": "markdown",
   "metadata": {},
   "source": [
    "All those values with same taxonRank. Let's drop them because we are interested in species occurrences and before we do the species regex extraction from the verbatimScientificName key"
   ]
  },
  {
   "cell_type": "code",
   "execution_count": 28,
   "metadata": {},
   "outputs": [],
   "source": [
    "coff_dl_df = coff_dl_df.drop(coff_dl_df[~coff_dl_df[\"verbatimScientificName\"].str.startswith(\"Coffea \")].index)"
   ]
  },
  {
   "cell_type": "markdown",
   "metadata": {},
   "source": [
    "Exploring remaining species with unknown values: All of the 'GENUS' tagged entries are actually missing entries in the 'species' key"
   ]
  },
  {
   "cell_type": "code",
   "execution_count": 29,
   "metadata": {},
   "outputs": [
    {
     "data": {
      "text/plain": [
       "SPECIES       2082\n",
       "GENUS          577\n",
       "SUBSPECIES      43\n",
       "VARIETY          1\n",
       "Name: taxonRank, dtype: int64"
      ]
     },
     "execution_count": 29,
     "metadata": {},
     "output_type": "execute_result"
    }
   ],
   "source": [
    "coff_dl_df[\"taxonRank\"].value_counts()"
   ]
  },
  {
   "cell_type": "code",
   "execution_count": 30,
   "metadata": {},
   "outputs": [
    {
     "data": {
      "text/plain": [
       "True"
      ]
     },
     "execution_count": 30,
     "metadata": {},
     "output_type": "execute_result"
    }
   ],
   "source": [
    "# Proof of same entries\n",
    "all(coff_dl_df[coff_dl_df[\"species\"].isnull()].index == coff_dl_df[coff_dl_df[\"taxonRank\"] == \"GENUS\"].index)"
   ]
  },
  {
   "cell_type": "code",
   "execution_count": 31,
   "metadata": {},
   "outputs": [
    {
     "data": {
      "text/plain": [
       "array([\"Coffea sp. nov. 'labatiana'\", 'Coffea sp.', 'Coffea L.',\n",
       "       'Coffea rupicola A.P. Davis & Rakotonas.',\n",
       "       'Coffea microdubardii A.P. Davis & Rakotonas.',\n",
       "       'Coffea kalobinonensis A.P. Davis & Rakotonas.',\n",
       "       'Coffea callmanderi A.P. Davis & Rakotonas.',\n",
       "       'Coffea darainensis A.P. Davis & Rakotonas.', 'Coffea sp. 1',\n",
       "       'Coffea poissonii', 'Coffea spathifolia', 'Coffea spec.',\n",
       "       'Coffea  L.', 'Coffea antsiranane', 'Coffea alaotrensis',\n",
       "       'Coffea callmanderi A. P. Davis'], dtype=object)"
      ]
     },
     "execution_count": 31,
     "metadata": {},
     "output_type": "execute_result"
    }
   ],
   "source": [
    "# Explore the verbatimScientificNames values for regex\n",
    "coff_dl_df[coff_dl_df[\"species\"].isnull()][\"verbatimScientificName\"].unique()\n"
   ]
  },
  {
   "cell_type": "markdown",
   "metadata": {},
   "source": [
    "Use regex to capture the species for the 'GENUS' entries with a clear species name using the 'verbatimScientificName' key"
   ]
  },
  {
   "cell_type": "code",
   "execution_count": 32,
   "metadata": {},
   "outputs": [],
   "source": [
    "def extract_species(name):\n",
    "    pattern = r\"Coffea\\s+(?!sp|spec)([a-z]+)|('labatiana')\"\n",
    "    match = re.search(pattern, name)\n",
    "    if match:\n",
    "        for group in match.groups():\n",
    "            if group is not None:\n",
    "                return \"Coffea \" + group.strip(\"'\")\n"
   ]
  },
  {
   "cell_type": "code",
   "execution_count": 33,
   "metadata": {},
   "outputs": [
    {
     "data": {
      "text/plain": [
       "array(['Coffea labatiana', None, 'Coffea rupicola',\n",
       "       'Coffea microdubardii', 'Coffea kalobinonensis',\n",
       "       'Coffea callmanderi', 'Coffea darainensis', 'Coffea poissonii',\n",
       "       'Coffea antsiranane', 'Coffea alaotrensis'], dtype=object)"
      ]
     },
     "execution_count": 33,
     "metadata": {},
     "output_type": "execute_result"
    }
   ],
   "source": [
    "coff_dl_df.loc[coff_dl_df[\"species\"].isnull(), \"verbatimScientificName\"].apply(extract_species).unique()"
   ]
  },
  {
   "cell_type": "code",
   "execution_count": 34,
   "metadata": {},
   "outputs": [],
   "source": [
    "# Replace the null entries\n",
    "coff_dl_df.loc[coff_dl_df[\"species\"].isnull(), \"species\"] = coff_dl_df.loc[coff_dl_df[\"species\"].isnull(), \"verbatimScientificName\"].apply(extract_species)"
   ]
  },
  {
   "cell_type": "code",
   "execution_count": 35,
   "metadata": {},
   "outputs": [
    {
     "data": {
      "text/plain": [
       "Coffea L.             458\n",
       "Coffea sp.             77\n",
       "Coffea  L.              2\n",
       "Coffea sp. 1            1\n",
       "Coffea spathifolia      1\n",
       "Coffea spec.            1\n",
       "Name: verbatimScientificName, dtype: int64"
      ]
     },
     "execution_count": 35,
     "metadata": {},
     "output_type": "execute_result"
    }
   ],
   "source": [
    "coff_dl_df[coff_dl_df[\"species\"].isnull()][\"verbatimScientificName\"].value_counts()"
   ]
  },
  {
   "cell_type": "markdown",
   "metadata": {},
   "source": [
    "We need to replace spathifolia instead of the null with the proper name of the specie *Coffea spathulifolia*:\n",
    "    \n",
    "    Davis, A. P. (2001). Two New Species of Coffea L. (Rubiaceae) from Eastern Madagascar. Kew Bulletin, 56(2), 479–489. https://doi.org/10.2307/4110970"
   ]
  },
  {
   "cell_type": "markdown",
   "metadata": {},
   "source": []
  },
  {
   "cell_type": "code",
   "execution_count": 36,
   "metadata": {},
   "outputs": [
    {
     "name": "stdout",
     "output_type": "stream",
     "text": [
      "HIGHERRANK match type found with 94% confidence!\n",
      "canonical name of match: Coffea\n",
      "GBIF_taxon_key: 2895315\n"
     ]
    },
    {
     "data": {
      "text/plain": [
       "2895315"
      ]
     },
     "execution_count": 36,
     "metadata": {},
     "output_type": "execute_result"
    }
   ],
   "source": [
    "gbif_api.get_taxon_key_by_species_match(\"Coffea spathulifolia\")"
   ]
  },
  {
   "cell_type": "code",
   "execution_count": 37,
   "metadata": {},
   "outputs": [
    {
     "data": {
      "text/plain": [
       "1"
      ]
     },
     "execution_count": 37,
     "metadata": {},
     "output_type": "execute_result"
    }
   ],
   "source": [
    "coff_dl_df[\"verbatimScientificName\"].str.contains(\"spathifolia\").sum()    # Only 1 entry so simpler to do"
   ]
  },
  {
   "cell_type": "code",
   "execution_count": 38,
   "metadata": {},
   "outputs": [],
   "source": [
    "coff_dl_df.loc[coff_dl_df[\"verbatimScientificName\"].str.contains(\"spathifolia\"), \"species\"] = \"Coffea spathulifolia\""
   ]
  },
  {
   "cell_type": "code",
   "execution_count": 39,
   "metadata": {},
   "outputs": [
    {
     "data": {
      "text/plain": [
       "1433    Coffea spathulifolia\n",
       "Name: species, dtype: object"
      ]
     },
     "execution_count": 39,
     "metadata": {},
     "output_type": "execute_result"
    }
   ],
   "source": [
    "# Sanity check\n",
    "coff_dl_df.loc[coff_dl_df[\"species\"] == \"Coffea spathulifolia\", \"species\"]"
   ]
  },
  {
   "cell_type": "markdown",
   "metadata": {},
   "source": [
    "Sanity check for the rest of the null entries in the species field.\n",
    "\n",
    "We cannot recover any more species name so we can drop them"
   ]
  },
  {
   "cell_type": "code",
   "execution_count": 40,
   "metadata": {},
   "outputs": [
    {
     "data": {
      "text/plain": [
       "array(['Coffea sp.', 'Coffea L.', 'Coffea sp. 1', 'Coffea spec.',\n",
       "       'Coffea  L.'], dtype=object)"
      ]
     },
     "execution_count": 40,
     "metadata": {},
     "output_type": "execute_result"
    }
   ],
   "source": [
    "coff_dl_df.loc[coff_dl_df[\"species\"].isnull(), \"verbatimScientificName\"].unique()"
   ]
  },
  {
   "cell_type": "code",
   "execution_count": 41,
   "metadata": {},
   "outputs": [],
   "source": [
    "coff_dl_df = coff_dl_df.loc[coff_dl_df[\"species\"].notnull()]"
   ]
  },
  {
   "cell_type": "markdown",
   "metadata": {},
   "source": [
    "We still have some subspecies and varieties. Let's explore their species name"
   ]
  },
  {
   "cell_type": "code",
   "execution_count": 42,
   "metadata": {},
   "outputs": [
    {
     "data": {
      "text/plain": [
       "array(['Coffea grevei', 'Coffea bonnieri', 'Coffea boiviniana',\n",
       "       'Coffea liberica'], dtype=object)"
      ]
     },
     "execution_count": 42,
     "metadata": {},
     "output_type": "execute_result"
    }
   ],
   "source": [
    "coff_dl_df.loc[coff_dl_df[\"taxonRank\"].isin([\"SUBSPECIES\", \"VARIETY\"]), \"species\"].unique()"
   ]
  },
  {
   "cell_type": "markdown",
   "metadata": {},
   "source": [
    "Naming seems correct. Let's verify with the GBIF API"
   ]
  },
  {
   "cell_type": "code",
   "execution_count": 43,
   "metadata": {},
   "outputs": [
    {
     "name": "stdout",
     "output_type": "stream",
     "text": [
      "EXACT match type found with 97% confidence!\n",
      "canonical name of match: Coffea grevei\n",
      "GBIF_taxon_key: 2895456\n",
      "rank: SPECIES\n",
      "\n",
      "EXACT match type found with 99% confidence!\n",
      "canonical name of match: Coffea bonnieri\n",
      "GBIF_taxon_key: 2895485\n",
      "rank: SPECIES\n",
      "\n",
      "EXACT match type found with 98% confidence!\n",
      "canonical name of match: Coffea boiviniana\n",
      "GBIF_taxon_key: 2895327\n",
      "rank: SPECIES\n",
      "\n",
      "EXACT match type found with 98% confidence!\n",
      "canonical name of match: Coffea liberica\n",
      "GBIF_taxon_key: 8524134\n",
      "rank: SPECIES\n",
      "\n"
     ]
    }
   ],
   "source": [
    "for sub_var_name in coff_dl_df.loc[coff_dl_df[\"taxonRank\"].isin([\"SUBSPECIES\", \"VARIETY\"]), \"species\"].unique():\n",
    "    temp = gbif_api.get_taxon_key_by_species_match(\n",
    "        name=sub_var_name,\n",
    "        return_full_on_match=True \n",
    "    )\n",
    "    print(f\"rank: {temp['rank']}\\n\")\n"
   ]
  },
  {
   "attachments": {},
   "cell_type": "markdown",
   "metadata": {},
   "source": [
    "### Filter for recent observations/collections and visualize"
   ]
  },
  {
   "cell_type": "code",
   "execution_count": 44,
   "metadata": {},
   "outputs": [
    {
     "data": {
      "image/png": "[encoded data removed]",
      "text/plain": [
       "<Figure size 1000x400 with 3 Axes>"
      ]
     },
     "metadata": {},
     "output_type": "display_data"
    }
   ],
   "source": [
    "fig, axes = plt.subplots(1, 3, figsize=(10, 4))\n",
    "axes = axes.ravel()\n",
    "\n",
    "sns.histplot(coff_dl_df, x=\"year\", ax=axes[0], binwidth=1)\n",
    "axes[0].set_title(\"Occurences per year for all entries\", fontsize=8)\n",
    "\n",
    "sns.histplot(coff_dl_df.loc[coff_dl_df[\"year\"] >= 2000], x=\"year\", ax=axes[1], binwidth=1, color=\"orange\")\n",
    "axes[1].set_title(\"Occurences per year post-2000\", fontsize=8)\n",
    "\n",
    "sns.histplot(coff_dl_df.loc[coff_dl_df[\"year\"] >= 2010], x=\"year\", ax=axes[2], binwidth=1, color=\"red\")\n",
    "axes[2].set_title(\"Occurences per year post-2010\", fontsize=8)\n",
    "\n",
    "plt.show()"
   ]
  },
  {
   "cell_type": "code",
   "execution_count": 45,
   "metadata": {},
   "outputs": [
    {
     "data": {
      "image/png": "[encoded data removed]",
      "text/plain": [
       "<Figure size 1500x1500 with 3 Axes>"
      ]
     },
     "metadata": {},
     "output_type": "display_data"
    }
   ],
   "source": [
    "fig, axes = plt.subplots(1, 3, figsize=(15, 15))\n",
    "axes = axes.ravel()\n",
    "\n",
    "temp_df = pd.DataFrame(coff_dl_df[\"species\"].value_counts().reset_index().rename(columns={\"species\": \"count\", \"index\": \"species\"}))\n",
    "sns.barplot(data=temp_df, y=\"species\", x=\"count\", ax=axes[0], palette=\"tab20\")\n",
    "axes[0].set_title(\"Distribution of species accross all years available\", fontsize=10)\n",
    "axes[0].tick_params(axis=\"y\", labelsize=8)\n",
    "\n",
    "temp_df = coff_dl_df.loc[coff_dl_df[\"year\"] >= 2000][\"species\"].value_counts().reset_index().rename(columns={\"species\": \"count\", \"index\": \"species\"})\n",
    "sns.barplot(data=temp_df, y=\"species\", x=\"count\", ax=axes[1], palette=\"tab20\")\n",
    "axes[1].set_title(\"Distribution of species after the year 2000\", fontsize=10)\n",
    "axes[1].tick_params(axis=\"y\", labelsize=8)\n",
    "\n",
    "temp_df = coff_dl_df.loc[coff_dl_df[\"year\"] >= 2010][\"species\"].value_counts().reset_index().rename(columns={\"species\": \"count\", \"index\": \"species\"})\n",
    "sns.barplot(data=temp_df, y=\"species\", x=\"count\", ax=axes[2], palette=\"tab20\")\n",
    "axes[2].set_title(\"Distribution of species after the year 2010\", fontsize=10)\n",
    "axes[2].tick_params(axis=\"y\", labelsize=8)\n",
    "\n",
    "fig.tight_layout()\n",
    "plt.show()"
   ]
  },
  {
   "cell_type": "code",
   "execution_count": 46,
   "metadata": {},
   "outputs": [
    {
     "name": "stdout",
     "output_type": "stream",
     "text": [
      "Number of unique species found whole GBIF (no filter): 75\n",
      "Number of unique species after year 2000: 66\n",
      "Number of unbique species after year 2010: 37\n"
     ]
    }
   ],
   "source": [
    "print(f\"Number of unique species found whole GBIF (no filter): {len(coff_dl_df['species'].unique())}\")\n",
    "print(f\"Number of unique species after year 2000: {len(coff_dl_df.loc[coff_dl_df['year'] >= 2000]['species'].unique())}\")\n",
    "print(f\"Number of unbique species after year 2010: {len(coff_dl_df.loc[coff_dl_df['year'] >= 2010]['species'].unique())}\")\n"
   ]
  },
  {
   "attachments": {},
   "cell_type": "markdown",
   "metadata": {},
   "source": [
    "Keep >= 2000 for now because to have the most recent sampling yet have the most diverse set of occurences in terms of species"
   ]
  },
  {
   "cell_type": "code",
   "execution_count": 47,
   "metadata": {},
   "outputs": [
    {
     "data": {
      "text/plain": [
       "(1155, 260)"
      ]
     },
     "execution_count": 47,
     "metadata": {},
     "output_type": "execute_result"
    }
   ],
   "source": [
    "df_2000 = coff_dl_df.loc[coff_dl_df[\"year\"] >= 2000]\n",
    "df_2000.shape"
   ]
  },
  {
   "cell_type": "code",
   "execution_count": 50,
   "metadata": {},
   "outputs": [
    {
     "name": "stdout",
     "output_type": "stream",
     "text": [
      "There are 1155 objects in post 2000 sampling\n"
     ]
    }
   ],
   "source": [
    "print(f\"There are {len(df_2000)} objects in post 2000 sampling\")"
   ]
  },
  {
   "attachments": {},
   "cell_type": "markdown",
   "metadata": {},
   "source": [
    "### Tag with botanical series using several sources from the litterature"
   ]
  },
  {
   "cell_type": "markdown",
   "metadata": {},
   "source": [
    "Davis and Rakotonasolo 2008 Baracoffea classif: https://academic.oup.com/botlinnean/article/158/3/355/2418549\n"
   ]
  },
  {
   "attachments": {},
   "cell_type": "markdown",
   "metadata": {},
   "source": [
    "#### From the cirad data on wild Madagascar coffea trees (R. Guyot) \n",
    "\n",
    "Some information on the initial classification of the botanical series which encapsulate some plant phenotypes:\n",
    "\n",
    "    Charrier 1978 botanical series: https://horizon.documentation.ird.fr/exl-doc/pleins_textes/divers14-07/08149.pdf\n"
   ]
  },
  {
   "cell_type": "code",
   "execution_count": 51,
   "metadata": {},
   "outputs": [],
   "source": [
    "# Load and drop blank rows\n",
    "cirad_data_filename = \"coff_madag_species_summary.xlsx\"\n",
    "cirad_df = pd.read_excel(data_dir / cirad_data_filename, decimal=\",\")\n",
    "cirad_df = cirad_df.dropna(how=\"all\").reset_index().drop(columns=\"index\")\n",
    "\n",
    "# Remove blank lines and strs\n",
    "cirad_df[\"GBS sequence\"] = cirad_df[\"GBS sequence\"].str.rstrip()    #* \\n still present after stripping\n",
    "\n",
    "# Remove \\n in Botanical series\n",
    "cirad_df = cirad_df.replace(r\"\\n\",\"\", regex=True)\n",
    "\n",
    "# Converting to proper NaN and reordering\n",
    "cirad_df = cirad_df.replace({\"-\": np.nan, \"NO POSITION\": np.nan})\n",
    "cirad_df = cirad_df.reindex(columns=[\"Species\", \"Species code\", \"Population code\", \"GBS sequence\", \"Botanical series\", \"Genome size (2C. pg)\", \"Latitude\", \"Longitude\"])\n",
    "# Remove NO from AND2 species\n",
    "cirad_df[\"Longitude\"] = cirad_df[\"Longitude\"].str.replace(\"NO \", \"\")\n",
    "cirad_df[\"Longitude\"] = cirad_df[\"Longitude\"].str.replace(\",\", \".\")\n",
    "\n",
    "# Removing outgroups and resetting index post cleaning\n",
    "cirad_df = cirad_df.loc[cirad_df[\"Botanical series\"] != \"OUTGROUP\"]\n",
    "cirad_df = cirad_df.reset_index().drop(columns=\"index\")\n",
    "\n",
    "# Fix float types on continuous data\n",
    "cirad_df[\"Genome size (2C. pg)\"] = cirad_df[\"Genome size (2C. pg)\"].astype(float)\n",
    "cirad_df[\"Latitude\"] = cirad_df[\"Latitude\"].astype(float)\n",
    "cirad_df[\"Longitude\"] = cirad_df[\"Longitude\"].astype(float)\n",
    "\n",
    "# Drop unnecessary cols\n",
    "cirad_df = cirad_df.drop(columns=[\"Population code\", \"Species code\", \"GBS sequence\", \"Genome size (2C. pg)\", \"Latitude\", \"Longitude\"])\n",
    "\n",
    "# Replace unknown botanical series with 'unknown'\n",
    "cirad_df.loc[cirad_df[\"Botanical series\"].isnull(), \"Botanical series\"] = \"unknown\"\n",
    "cirad_df.columns = [\"species\", \"botanicalSeries\"]\n",
    "\n",
    "# Consistent format accross species and botanical series from the GBIF nomenclature\n",
    "cirad_df[\"species\"] = cirad_df[\"species\"].str.replace(\"_\", \".\")\n",
    "cirad_df[\"species\"] = cirad_df[\"species\"].str.replace(\"C\\.\", \"Coffea \", regex=True)\n",
    "cirad_df[\"botanicalSeries\"] = cirad_df[\"botanicalSeries\"].str.strip()\n",
    "cirad_df[\"species\"] = cirad_df[\"species\"].str.strip()\n",
    "\n",
    "\n",
    "# Keep only a single species for each botanicalSeries\n",
    "cirad_df = cirad_df.drop_duplicates(subset=\"species\", keep=\"first\")"
   ]
  },
  {
   "cell_type": "code",
   "execution_count": 52,
   "metadata": {},
   "outputs": [
    {
     "data": {
      "text/html": [
       "<div>\n",
       "<style scoped>\n",
       "    .dataframe tbody tr th:only-of-type {\n",
       "        vertical-align: middle;\n",
       "    }\n",
       "\n",
       "    .dataframe tbody tr th {\n",
       "        vertical-align: top;\n",
       "    }\n",
       "\n",
       "    .dataframe thead th {\n",
       "        text-align: right;\n",
       "    }\n",
       "</style>\n",
       "<table border=\"1\" class=\"dataframe\">\n",
       "  <thead>\n",
       "    <tr style=\"text-align: right;\">\n",
       "      <th></th>\n",
       "      <th>species</th>\n",
       "      <th>botanicalSeries</th>\n",
       "    </tr>\n",
       "  </thead>\n",
       "  <tbody>\n",
       "    <tr>\n",
       "      <th>0</th>\n",
       "      <td>Coffea abbayesii</td>\n",
       "      <td>Millotii</td>\n",
       "    </tr>\n",
       "    <tr>\n",
       "      <th>1</th>\n",
       "      <td>Coffea ambodirianenis</td>\n",
       "      <td>Millotii</td>\n",
       "    </tr>\n",
       "    <tr>\n",
       "      <th>2</th>\n",
       "      <td>Coffea ambongensis</td>\n",
       "      <td>Baracoffea</td>\n",
       "    </tr>\n",
       "    <tr>\n",
       "      <th>3</th>\n",
       "      <td>Coffea ankaranensis</td>\n",
       "      <td>Multiflorae</td>\n",
       "    </tr>\n",
       "    <tr>\n",
       "      <th>5</th>\n",
       "      <td>Coffea arenesiana</td>\n",
       "      <td>Multiflorae</td>\n",
       "    </tr>\n",
       "  </tbody>\n",
       "</table>\n",
       "</div>"
      ],
      "text/plain": [
       "                 species botanicalSeries\n",
       "0       Coffea abbayesii        Millotii\n",
       "1  Coffea ambodirianenis        Millotii\n",
       "2     Coffea ambongensis      Baracoffea\n",
       "3    Coffea ankaranensis     Multiflorae\n",
       "5      Coffea arenesiana     Multiflorae"
      ]
     },
     "execution_count": 52,
     "metadata": {},
     "output_type": "execute_result"
    }
   ],
   "source": [
    "cirad_df.head()"
   ]
  },
  {
   "cell_type": "code",
   "execution_count": 53,
   "metadata": {},
   "outputs": [
    {
     "name": "stdout",
     "output_type": "stream",
     "text": [
      "There are 45 unique species with a known botanical series label in the cirad data\n",
      "There is 1 unique specie with an unknown botanical series label\n"
     ]
    }
   ],
   "source": [
    "print(f'There are {(cirad_df[\"botanicalSeries\"] != \"unknown\").sum()} unique species with a known botanical series label in the cirad data')\n",
    "print(f'There is {(cirad_df[\"botanicalSeries\"] == \"unknown\").sum()} unique specie with an unknown botanical series label')"
   ]
  },
  {
   "attachments": {},
   "cell_type": "markdown",
   "metadata": {},
   "source": [
    "#### Botanical series-species labels from the Razafinarivo paper in Tree Genetics& Genomes (2012)\n",
    "\n",
    "https://link.springer.com/article/10.1007/s11295-012-0520-9/tables/1\n",
    "\n",
    "    Letters indicate groups of populations that were not significantly different at p < 0.05 (HSD test)\n",
    "    MAS Mascarocoffea, Mau Humblotianae/Mauritianae, Gar Garcinoides, Mil Millotii, Mul Multiflorae, Sub Subterminales, Ver Verae, NW northwest, NE northeast, S south, C center, E east, SE southeast, ETA east Tropical Africa, WTA west Tropical Africa, WCTA west/central Tropical Africa, MDG Madagascar, MAU Mauritius, COM/CO Comoros\n",
    "    bHabitat information from Leroy 1972a, b; Charrier 1978; Davis et al. 2006 and F Rakotonasolo, Royal Botanical Gardens, Antananarivo, Madagascar, ‘ pers. comm.’).\n",
    "    aMain region and country code as defined in Brummitt (2001)\n"
   ]
  },
  {
   "attachments": {},
   "cell_type": "markdown",
   "metadata": {},
   "source": [
    "Again, same nomenclature for species as GBIF + botanical series identical to Cirad data format (from Charrier 1978 + Davis and Rakotonasolo 2008 for Baracoffea)"
   ]
  },
  {
   "cell_type": "code",
   "execution_count": 54,
   "metadata": {},
   "outputs": [
    {
     "name": "stdout",
     "output_type": "stream",
     "text": [
      "r.status_code=200\n"
     ]
    }
   ],
   "source": [
    "url = \"https://link.springer.com/article/10.1007/s11295-012-0520-9/tables/1\"\n",
    "try:\n",
    "    r = requests.get(url=url)\n",
    "    r.raise_for_status()\n",
    "    print(f\"{r.status_code=}\")\n",
    "except Exception as e:\n",
    "    print(e)"
   ]
  },
  {
   "cell_type": "code",
   "execution_count": 55,
   "metadata": {},
   "outputs": [],
   "source": [
    "razafinarivo_df = pd.read_html(\"https://link.springer.com/article/10.1007/s11295-012-0520-9/tables/1\")[0]"
   ]
  },
  {
   "cell_type": "code",
   "execution_count": 56,
   "metadata": {},
   "outputs": [
    {
     "data": {
      "text/html": [
       "<div>\n",
       "<style scoped>\n",
       "    .dataframe tbody tr th:only-of-type {\n",
       "        vertical-align: middle;\n",
       "    }\n",
       "\n",
       "    .dataframe tbody tr th {\n",
       "        vertical-align: top;\n",
       "    }\n",
       "\n",
       "    .dataframe thead th {\n",
       "        text-align: right;\n",
       "    }\n",
       "</style>\n",
       "<table border=\"1\" class=\"dataframe\">\n",
       "  <thead>\n",
       "    <tr style=\"text-align: right;\">\n",
       "      <th></th>\n",
       "      <th>Main regiona/Botanical series</th>\n",
       "      <th>Species</th>\n",
       "      <th>Abbreviation used in figures</th>\n",
       "      <th>Population code</th>\n",
       "      <th>Country/ region</th>\n",
       "      <th>City-Locality of origin</th>\n",
       "      <th>Forest habitatb</th>\n",
       "      <th>Number of plants</th>\n",
       "      <th>Mean 2 C DNA ± SD (pg)</th>\n",
       "      <th>CV</th>\n",
       "    </tr>\n",
       "  </thead>\n",
       "  <tbody>\n",
       "    <tr>\n",
       "      <th>0</th>\n",
       "      <td>MAS/Mau</td>\n",
       "      <td>C. mauritiana Lam.</td>\n",
       "      <td>MAU</td>\n",
       "      <td>MAU</td>\n",
       "      <td>MAU</td>\n",
       "      <td>Plaine Champagne</td>\n",
       "      <td>humid</td>\n",
       "      <td>5</td>\n",
       "      <td>0.96 ± 0.04 a</td>\n",
       "      <td>4.85</td>\n",
       "    </tr>\n",
       "    <tr>\n",
       "      <th>1</th>\n",
       "      <td>MAS/Mau</td>\n",
       "      <td>C. humblotiana Baill.</td>\n",
       "      <td>HUMB</td>\n",
       "      <td>A230</td>\n",
       "      <td>COM-CO</td>\n",
       "      <td>Mount Kartala, Grande Comore</td>\n",
       "      <td>humid</td>\n",
       "      <td>5</td>\n",
       "      <td>0.97 ± 0.05 ab</td>\n",
       "      <td>4.65</td>\n",
       "    </tr>\n",
       "    <tr>\n",
       "      <th>2</th>\n",
       "      <td>MAS/Mau</td>\n",
       "      <td>C. myrtifolia (A. Rich. ex DC.) J.-F.Leroy</td>\n",
       "      <td>MYR</td>\n",
       "      <td>MYR</td>\n",
       "      <td>MAU</td>\n",
       "      <td>Mount Brisé</td>\n",
       "      <td>humid</td>\n",
       "      <td>5</td>\n",
       "      <td>1.07 ± 0.03 efgh</td>\n",
       "      <td>3.25</td>\n",
       "    </tr>\n",
       "    <tr>\n",
       "      <th>3</th>\n",
       "      <td>MAS/Mau</td>\n",
       "      <td>C. macrocarpa A.Rich.</td>\n",
       "      <td>MAC</td>\n",
       "      <td>MAC</td>\n",
       "      <td>MAU</td>\n",
       "      <td>Le Pétrin</td>\n",
       "      <td>humid</td>\n",
       "      <td>7</td>\n",
       "      <td>1.17 ± 0.04 nopqrs</td>\n",
       "      <td>2.37</td>\n",
       "    </tr>\n",
       "    <tr>\n",
       "      <th>4</th>\n",
       "      <td>MAS/Mau</td>\n",
       "      <td>C. bernardiniana J.-F.Leroy</td>\n",
       "      <td>BER</td>\n",
       "      <td>BER</td>\n",
       "      <td>MAU</td>\n",
       "      <td>Montagne des Créoles</td>\n",
       "      <td>humid</td>\n",
       "      <td>6</td>\n",
       "      <td>1.23 ± 0.03 qrstu</td>\n",
       "      <td>2.59</td>\n",
       "    </tr>\n",
       "  </tbody>\n",
       "</table>\n",
       "</div>"
      ],
      "text/plain": [
       "  Main regiona/Botanical series                                     Species  \\\n",
       "0                       MAS/Mau                          C. mauritiana Lam.   \n",
       "1                       MAS/Mau                       C. humblotiana Baill.   \n",
       "2                       MAS/Mau  C. myrtifolia (A. Rich. ex DC.) J.-F.Leroy   \n",
       "3                       MAS/Mau                       C. macrocarpa A.Rich.   \n",
       "4                       MAS/Mau                 C. bernardiniana J.-F.Leroy   \n",
       "\n",
       "  Abbreviation used in figures Population code Country/ region  \\\n",
       "0                          MAU             MAU             MAU   \n",
       "1                         HUMB            A230          COM-CO   \n",
       "2                          MYR             MYR             MAU   \n",
       "3                          MAC             MAC             MAU   \n",
       "4                          BER             BER             MAU   \n",
       "\n",
       "        City-Locality of origin Forest habitatb  Number of plants  \\\n",
       "0              Plaine Champagne           humid                 5   \n",
       "1  Mount Kartala, Grande Comore           humid                 5   \n",
       "2                   Mount Brisé           humid                 5   \n",
       "3                     Le Pétrin           humid                 7   \n",
       "4          Montagne des Créoles           humid                 6   \n",
       "\n",
       "  Mean 2 C DNA ± SD (pg)    CV  \n",
       "0          0.96 ± 0.04 a  4.85  \n",
       "1         0.97 ± 0.05 ab  4.65  \n",
       "2       1.07 ± 0.03 efgh  3.25  \n",
       "3     1.17 ± 0.04 nopqrs  2.37  \n",
       "4      1.23 ± 0.03 qrstu  2.59  "
      ]
     },
     "execution_count": 56,
     "metadata": {},
     "output_type": "execute_result"
    }
   ],
   "source": [
    "razafinarivo_df.head()"
   ]
  },
  {
   "attachments": {},
   "cell_type": "markdown",
   "metadata": {},
   "source": [
    "Remove non Mascarocoffea (Madagascar) and retrieve botanical series abbrievation"
   ]
  },
  {
   "cell_type": "code",
   "execution_count": 57,
   "metadata": {},
   "outputs": [],
   "source": [
    "# Filter for Mascarocoffea + keep only botanical series\n",
    "razafinarivo_df = razafinarivo_df.loc[razafinarivo_df[\"Main regiona/Botanical series\"].str.contains(\"MAS\")].copy()\n",
    "\n",
    "razafinarivo_df[\"Main regiona/Botanical series\"] = razafinarivo_df[\"Main regiona/Botanical series\"].apply(lambda x: x.split(\"/\")[1])\n",
    "razafinarivo_df = razafinarivo_df.iloc[:, 0:2]\n",
    "razafinarivo_df.columns = [\"botanicalSeries\", \"species\"]\n",
    "razafinarivo_df[\"botanicalSeries\"] = razafinarivo_df[\"botanicalSeries\"].str.strip()\n",
    "\n",
    "# streamline species nomenclature + keep only a single rep per species\n",
    "razafinarivo_df[\"species\"] = razafinarivo_df[\"species\"].str.extract(\"C. ([a-z\\-]+)\", expand=False).apply(lambda x: \"Coffea \" + x)\n",
    "razafinarivo_df[\"species\"] = razafinarivo_df[\"species\"].str.strip()\n",
    "razafinarivo_df = razafinarivo_df.drop_duplicates(subset=\"species\", keep=\"first\")\n"
   ]
  },
  {
   "cell_type": "code",
   "execution_count": 58,
   "metadata": {},
   "outputs": [],
   "source": [
    "# Create a hashmap of abbreviations from the cirad data to streamline both dfs\n",
    "abbrev_botseries = {}\n",
    "for abbrev in razafinarivo_df[\"botanicalSeries\"].unique():\n",
    "    for botseries in cirad_df[\"botanicalSeries\"].unique():\n",
    "        if botseries.startswith(abbrev):\n",
    "            abbrev_botseries[abbrev] = botseries\n",
    "\n",
    "assert len(abbrev_botseries) == len(razafinarivo_df[\"botanicalSeries\"].unique()), \"length of abbreviations dict does not match\"\n",
    "\n",
    "razafinarivo_df[\"botanicalSeries\"] = razafinarivo_df[\"botanicalSeries\"].apply(lambda x: abbrev_botseries[x] if x in abbrev_botseries else x)\n"
   ]
  },
  {
   "cell_type": "code",
   "execution_count": 59,
   "metadata": {},
   "outputs": [],
   "source": [
    "# Check common/diffs with Cirad datasets\n",
    "# pd.merge(cirad_df, razafinarivo_df, how=\"outer\", on=\"species\")"
   ]
  },
  {
   "attachments": {},
   "cell_type": "markdown",
   "metadata": {},
   "source": [
    "#### Get botanical series from Rimlinger_AnnBot (2020)\n",
    "    Rimlinger A, Raharimalala N, Letort V, Rakotomalala JJ, Crouzillat D, Guyot R, Hamon P, Sabatier S. Phenotypic diversity assessment within a major ex situ collection of wild endemic coffees in Madagascar. Ann Bot. 2020 Oct 6;126(5):849-863. doi: 10.1093/aob/mcaa073. PMID: 32303759; PMCID: PMC7539352.\n",
    "\n",
    "https://www.ncbi.nlm.nih.gov/pmc/articles/PMC7539352/table/T1/"
   ]
  },
  {
   "cell_type": "code",
   "execution_count": 60,
   "metadata": {},
   "outputs": [
    {
     "name": "stdout",
     "output_type": "stream",
     "text": [
      "403 Client Error: Forbidden for url: https://www.ncbi.nlm.nih.gov/pmc/articles/PMC7539352/table/T1/\n"
     ]
    }
   ],
   "source": [
    "try:\n",
    "    r = requests.get(url=\"https://www.ncbi.nlm.nih.gov/pmc/articles/PMC7539352/table/T1/\")\n",
    "    r.raise_for_status()\n",
    "    print(f\"{r.status_code=}\")\n",
    "except Exception as e:\n",
    "    print(e)"
   ]
  },
  {
   "cell_type": "markdown",
   "metadata": {},
   "source": [
    "We will need to use a User-Agent header to a response with status code == 200"
   ]
  },
  {
   "cell_type": "code",
   "execution_count": 61,
   "metadata": {},
   "outputs": [
    {
     "name": "stdout",
     "output_type": "stream",
     "text": [
      "r.status_code=200\n"
     ]
    }
   ],
   "source": [
    "url = \"https://www.ncbi.nlm.nih.gov/pmc/articles/PMC7539352/table/T1/\"\n",
    "headers = {\"User-Agent\": \"Mozilla/5.0 (Windows NT 10.0; Win64; x64) AppleWebKit/537.36 (KHTML, like Gecko) Chrome/96.0.4664.93 Safari/537.36\"}\n",
    "try:\n",
    "    r = requests.get(url=url, headers=headers)\n",
    "    r.raise_for_status()\n",
    "    print(f\"{r.status_code=}\")\n",
    "except Exception as e:\n",
    "    print(e)"
   ]
  },
  {
   "cell_type": "code",
   "execution_count": 62,
   "metadata": {},
   "outputs": [
    {
     "data": {
      "text/html": [
       "<div>\n",
       "<style scoped>\n",
       "    .dataframe tbody tr th:only-of-type {\n",
       "        vertical-align: middle;\n",
       "    }\n",
       "\n",
       "    .dataframe tbody tr th {\n",
       "        vertical-align: top;\n",
       "    }\n",
       "\n",
       "    .dataframe thead th {\n",
       "        text-align: right;\n",
       "    }\n",
       "</style>\n",
       "<table border=\"1\" class=\"dataframe\">\n",
       "  <thead>\n",
       "    <tr style=\"text-align: right;\">\n",
       "      <th></th>\n",
       "      <th>Population code</th>\n",
       "      <th>Species</th>\n",
       "      <th>Botanical series</th>\n",
       "      <th>Origin/locality</th>\n",
       "      <th>Province</th>\n",
       "      <th>Latitude</th>\n",
       "      <th>Longitude</th>\n",
       "      <th>Habitat class</th>\n",
       "    </tr>\n",
       "  </thead>\n",
       "  <tbody>\n",
       "    <tr>\n",
       "      <th>0</th>\n",
       "      <td>A964</td>\n",
       "      <td>C. dubardii Jum.</td>\n",
       "      <td>Garcinioides</td>\n",
       "      <td>Anivorano Nord</td>\n",
       "      <td>Antsiranana (North)</td>\n",
       "      <td>12°44′ S</td>\n",
       "      <td>49°09′ E</td>\n",
       "      <td>3.0</td>\n",
       "    </tr>\n",
       "    <tr>\n",
       "      <th>1</th>\n",
       "      <td>A969</td>\n",
       "      <td>C. dubardii Jum.</td>\n",
       "      <td>Garcinioides</td>\n",
       "      <td>North of Vohemar (Diégo-Suarez)</td>\n",
       "      <td>Antsiranana (North)</td>\n",
       "      <td>13°20′ S</td>\n",
       "      <td>49°57′ E</td>\n",
       "      <td>3.0</td>\n",
       "    </tr>\n",
       "    <tr>\n",
       "      <th>2</th>\n",
       "      <td>A516</td>\n",
       "      <td>C. heimii J.-F.Leroy</td>\n",
       "      <td>Garcinioides</td>\n",
       "      <td>Diégo-Suarez (Sahafary)</td>\n",
       "      <td>Antsiranana (North)</td>\n",
       "      <td>12°35′ S</td>\n",
       "      <td>49°26′30″ E</td>\n",
       "      <td>3.0</td>\n",
       "    </tr>\n",
       "    <tr>\n",
       "      <th>3</th>\n",
       "      <td>A40</td>\n",
       "      <td>C. mogenetii Dubard</td>\n",
       "      <td>Garcinioides</td>\n",
       "      <td>Montagne d’Ambre</td>\n",
       "      <td>Antsiranana (North)</td>\n",
       "      <td>49°12′ S</td>\n",
       "      <td>12°26′ E</td>\n",
       "      <td>3.0</td>\n",
       "    </tr>\n",
       "    <tr>\n",
       "      <th>4</th>\n",
       "      <td>A252</td>\n",
       "      <td>C. tetragona Jum. &amp; H.Perrier</td>\n",
       "      <td>Garcinioides</td>\n",
       "      <td>Behangony (Est de Maromandia)</td>\n",
       "      <td>Mahajanga (Northwest)</td>\n",
       "      <td>14°13′30″ S</td>\n",
       "      <td>48°09′ E</td>\n",
       "      <td>3.0</td>\n",
       "    </tr>\n",
       "  </tbody>\n",
       "</table>\n",
       "</div>"
      ],
      "text/plain": [
       "  Population code                        Species Botanical series  \\\n",
       "0            A964               C. dubardii Jum.     Garcinioides   \n",
       "1            A969               C. dubardii Jum.     Garcinioides   \n",
       "2            A516           C. heimii J.-F.Leroy     Garcinioides   \n",
       "3             A40            C. mogenetii Dubard     Garcinioides   \n",
       "4            A252  C. tetragona Jum. & H.Perrier     Garcinioides   \n",
       "\n",
       "                   Origin/locality               Province     Latitude  \\\n",
       "0                   Anivorano Nord    Antsiranana (North)     12°44′ S   \n",
       "1  North of Vohemar (Diégo-Suarez)    Antsiranana (North)     13°20′ S   \n",
       "2          Diégo-Suarez (Sahafary)    Antsiranana (North)     12°35′ S   \n",
       "3                 Montagne d’Ambre    Antsiranana (North)     49°12′ S   \n",
       "4    Behangony (Est de Maromandia)  Mahajanga (Northwest)  14°13′30″ S   \n",
       "\n",
       "     Longitude  Habitat class  \n",
       "0     49°09′ E            3.0  \n",
       "1     49°57′ E            3.0  \n",
       "2  49°26′30″ E            3.0  \n",
       "3     12°26′ E            3.0  \n",
       "4     48°09′ E            3.0  "
      ]
     },
     "execution_count": 62,
     "metadata": {},
     "output_type": "execute_result"
    }
   ],
   "source": [
    "rimlinger_df = pd.read_html(r.text)[0]\n",
    "rimlinger_df.head()"
   ]
  },
  {
   "attachments": {},
   "cell_type": "markdown",
   "metadata": {},
   "source": [
    "Format species and botanical series as GBIF/Cirad to streamline all sets"
   ]
  },
  {
   "cell_type": "code",
   "execution_count": 63,
   "metadata": {},
   "outputs": [],
   "source": [
    "# Format species and keep relevant cols\n",
    "rimlinger_df[\"Species\"] = rimlinger_df[\"Species\"].str.extract(\"C. ([a-z\\-]+)\", expand=False).apply(lambda x: \"Coffea \" + x)\n",
    "rimlinger_df = rimlinger_df.iloc[:, 1:3]\n",
    "\n",
    "rimlinger_df.columns = [\"species\", \"botanicalSeries\"]\n",
    "rimlinger_df[\"species\"] = rimlinger_df[\"species\"].str.strip()\n",
    "rimlinger_df[\"botanicalSeries\"] = rimlinger_df[\"botanicalSeries\"].str.strip()\n",
    "\n",
    "# Keep only 1 record per specie\n",
    "rimlinger_df = rimlinger_df.drop_duplicates(subset=\"species\", keep=\"first\")\n"
   ]
  },
  {
   "cell_type": "code",
   "execution_count": 64,
   "metadata": {},
   "outputs": [],
   "source": [
    "# Check common/diffs with Cirad datasets\n",
    "# pd.merge(cirad_df, razafinarivo_df, how=\"outer\", on=\"species\")"
   ]
  },
  {
   "attachments": {},
   "cell_type": "markdown",
   "metadata": {},
   "source": [
    "#### Baracoffea new taxonomic botanical_series\n",
    "\n",
    "Extract all species name identified to the new Barracoffea taxonimic assignement from this paper:\n",
    "\n",
    "    AARON P. DAVIS , FRANCK RAKOTONASOLO, A taxonomic revision of the baracoffea alliance: nine remarkable Coffea species from western Madagascar, Botanical Journal of the Linnean Society, Volume 158, Issue 3, November 2008, Pages 355–390, https://doi.org/10.1111/j.1095-8339.2008.00936.x\n",
    "\n"
   ]
  },
  {
   "cell_type": "markdown",
   "metadata": {},
   "source": [
    "We will use BeautifulSoup4 to extract the names of the species from the paper's"
   ]
  },
  {
   "cell_type": "code",
   "execution_count": 65,
   "metadata": {},
   "outputs": [
    {
     "name": "stdout",
     "output_type": "stream",
     "text": [
      "r.status_code=200\n"
     ]
    }
   ],
   "source": [
    "url = \"https://academic.oup.com/botlinnean/article/158/3/355/2418549#84218288\"\n",
    "headers = {\"User-Agent\": \"Mozilla/5.0 (Windows NT 10.0; Win64; x64) AppleWebKit/537.36 (KHTML, like Gecko) Chrome/96.0.4664.93 Safari/537.36\"}\n",
    "try:\n",
    "    r = requests.get(url=url, headers=headers)\n",
    "    r.raise_for_status()\n",
    "    print(f\"{r.status_code=}\")\n",
    "    html_doc = r.text\n",
    "except Exception as e:\n",
    "    print(e)"
   ]
  },
  {
   "cell_type": "code",
   "execution_count": 66,
   "metadata": {},
   "outputs": [],
   "source": [
    "def extract_barracoffea_species():\n",
    "    barracoffea_davis = []\n",
    "    soup = BeautifulSoup(html_doc, \"html.parser\")\n",
    "    h3_tags = soup.find_all(\"h3\")\n",
    "    for h3 in h3_tags:\n",
    "        for tag in h3.find_all([\"em\", \"span\"]): \n",
    "            tag.replace_with(tag.text)  # replace each tag with its text content\n",
    "        h3_contents = h3.text  # get the text contents of the h3 tag\n",
    "        pattern = r\"^\\d\\. (Coffea ?\\w+)\"\n",
    "        match = re.search(pattern=pattern, string=h3_contents)\n",
    "        if match:\n",
    "            if match.group(1) == \"Coffeagrevei\":\n",
    "                barracoffea_davis.append(\"Coffea grevei\")\n",
    "            else:\n",
    "                barracoffea_davis.append(match.group(1))\n",
    "    return barracoffea_davis"
   ]
  },
  {
   "cell_type": "code",
   "execution_count": 67,
   "metadata": {},
   "outputs": [
    {
     "data": {
      "text/plain": [
       "['Coffea ambongensis',\n",
       " 'Coffea boinensis',\n",
       " 'Coffea humbertii',\n",
       " 'Coffea grevei',\n",
       " 'Coffea bissetiae',\n",
       " 'Coffea decaryana',\n",
       " 'Coffea namorokensis',\n",
       " 'Coffea labatii',\n",
       " 'Coffea pterocarpa']"
      ]
     },
     "execution_count": 67,
     "metadata": {},
     "output_type": "execute_result"
    }
   ],
   "source": [
    "extract_barracoffea_species()"
   ]
  },
  {
   "cell_type": "markdown",
   "metadata": {},
   "source": [
    "#### Validate species name according to GBIF nomenclature"
   ]
  },
  {
   "cell_type": "code",
   "execution_count": 68,
   "metadata": {},
   "outputs": [],
   "source": [
    "#TODO ADD TO GBIF_API MODULE\n",
    "def check_species_name_gbif(species_name: list):\n",
    "    if not isinstance(species_name, str):\n",
    "        raise TypeError(f\"{species_name} must be of type list.\")\n",
    "    \n",
    "    url = \"http://api.gbif.org/v1/species/match\"\n",
    "    params = {\"name\": species_name}\n",
    "    response = requests.get(url, params=params)\n",
    "    if response.status_code == 200:\n",
    "        data = response.json()\n",
    "    else:\n",
    "        data = f\"request failed: status-code = {response.status_code}\"\n",
    "    return data\n",
    "        "
   ]
  },
  {
   "cell_type": "code",
   "execution_count": 69,
   "metadata": {},
   "outputs": [
    {
     "data": {
      "text/plain": [
       "{'usageKey': 2895315,\n",
       " 'scientificName': 'Coffea L.',\n",
       " 'canonicalName': 'Coffea',\n",
       " 'rank': 'GENUS',\n",
       " 'status': 'ACCEPTED',\n",
       " 'confidence': 94,\n",
       " 'matchType': 'HIGHERRANK',\n",
       " 'kingdom': 'Plantae',\n",
       " 'phylum': 'Tracheophyta',\n",
       " 'order': 'Gentianales',\n",
       " 'family': 'Rubiaceae',\n",
       " 'genus': 'Coffea',\n",
       " 'kingdomKey': 6,\n",
       " 'phylumKey': 7707728,\n",
       " 'classKey': 220,\n",
       " 'orderKey': 412,\n",
       " 'familyKey': 8798,\n",
       " 'genusKey': 2895315,\n",
       " 'synonym': False,\n",
       " 'class': 'Magnoliopsida'}"
      ]
     },
     "execution_count": 69,
     "metadata": {},
     "output_type": "execute_result"
    }
   ],
   "source": [
    "check_species_name_gbif(\"Coffea daphnoides\")"
   ]
  },
  {
   "cell_type": "code",
   "execution_count": 70,
   "metadata": {},
   "outputs": [
    {
     "name": "stdout",
     "output_type": "stream",
     "text": [
      "Coffea abbayesii found in GBIF!\n",
      "Coffea ambodirianenis is mispelled. Correct spelling is Coffea millotii\n",
      "Coffea ambongensis found in GBIF!\n",
      "Coffea ankaranensis found in GBIF!\n",
      "Coffea arenesiana found in GBIF!\n",
      "Coffea augagneuri is mispelled. Correct spelling is Coffea augagneurii\n",
      "Coffea bertrandii found in GBIF!\n",
      "Coffea betamponensis found in GBIF!\n",
      "Coffea bissetiae found in GBIF!\n",
      "Coffea boinensis found in GBIF!\n",
      "Coffea boiviniana found in GBIF!\n",
      "Coffea bonnieri found in GBIF!\n",
      "Coffea costei found in GBIF!\n",
      "Coffea coursiana found in GBIF!\n",
      "Coffea daphnoides does not have a specie taxon rank in GBIF\n",
      "Coffea dolichophylla found in GBIF!\n",
      "Coffea dubardii found in GBIF!\n",
      "Coffea farafanganensis found in GBIF!\n",
      "Coffea heimii found in GBIF!\n",
      "Coffea homollei found in GBIF!\n",
      "Coffea humblotiana found in GBIF!\n",
      "Coffea jumellei found in GBIF!\n",
      "Coffea kianjavatensis found in GBIF!\n",
      "Coffea lancifolia found in GBIF!\n",
      "Coffea leroyi found in GBIF!\n",
      "Coffea macrocarpa found in GBIF!\n",
      "Coffea mangoroensis found in GBIF!\n",
      "Coffea milotti is mispelled. Correct spelling is Coffea millotii\n",
      "Coffea mogenetti is mispelled. Correct spelling is Coffea mogenetii\n",
      "Coffea montis-sacri found in GBIF!\n",
      "Coffea perrieri found in GBIF!\n",
      "Coffea pervilleana found in GBIF!\n",
      "Coffea ratsimamangae found in GBIF!\n",
      "Coffea resinosa found in GBIF!\n",
      "Coffea richardii found in GBIF!\n",
      "Coffea sahafaryensis found in GBIF!\n",
      "Coffea sakarahae found in GBIF!\n",
      "Coffea tetragona found in GBIF!\n",
      "Coffea tsirananae found in GBIF!\n",
      "Coffea vatovavyensis found in GBIF!\n",
      "Coffea vianneyi found in GBIF!\n",
      "Coffea vohemarensis found in GBIF!\n",
      "Coffea andrambovatensis found in GBIF!\n",
      "Coffea humbertii found in GBIF!\n",
      "Coffea labatii found in GBIF!\n",
      "Coffea liaudii found in GBIF!\n"
     ]
    }
   ],
   "source": [
    "for specie in cirad_df[\"species\"]:\n",
    "    data = check_species_name_gbif(specie)\n",
    "    if \"status\" not in data:\n",
    "        print(f\"{specie} cannot be found in GBIF dataset\")\n",
    "    elif \"species\" not in data:\n",
    "        print(f\"{specie} does not have a specie taxon rank in GBIF\")\n",
    "    elif data[\"matchType\"] == \"FUZZY\":\n",
    "        print(f\"{specie} is mispelled. Correct spelling is {data['species']}\")\n",
    "    else:\n",
    "        print(f\"{specie} found in GBIF!\")"
   ]
  },
  {
   "cell_type": "markdown",
   "metadata": {},
   "source": [
    "**We need to format all the data sources to match the species naming convention of the GBIF**"
   ]
  },
  {
   "cell_type": "code",
   "execution_count": 72,
   "metadata": {},
   "outputs": [],
   "source": [
    "#TODO FORMAT CIRAD DATA"
   ]
  },
  {
   "attachments": {},
   "cell_type": "markdown",
   "metadata": {},
   "source": [
    "#! FIND OTHER SOURCES OF BOTANICAL SERIES LABELS BEFORE MERGE"
   ]
  },
  {
   "cell_type": "code",
   "execution_count": 71,
   "metadata": {},
   "outputs": [],
   "source": [
    "# pd.merge(df_2000, cirad_df, how=\"outer\", on=\"species\").loc[pd.merge(df_2000, cirad_df, how=\"outer\", on=\"species\")[\"botanicalSeries\"] == \"unknown\"]"
   ]
  }
 ],
 "metadata": {
  "kernelspec": {
   "display_name": "aphylo_cm",
   "language": "python",
   "name": "python3"
  },
  "language_info": {
   "codemirror_mode": {
    "name": "ipython",
    "version": 3
   },
   "file_extension": ".py",
   "mimetype": "text/x-python",
   "name": "python",
   "nbconvert_exporter": "python",
   "pygments_lexer": "ipython3",
   "version": "3.11.0"
  },
  "orig_nbformat": 4
 },
 "nbformat": 4,
 "nbformat_minor": 2
}
